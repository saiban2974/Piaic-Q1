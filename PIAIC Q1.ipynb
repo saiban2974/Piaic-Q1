{
 "cells": [
  {
   "cell_type": "code",
   "execution_count": 5,
   "metadata": {
    "scrolled": true
   },
   "outputs": [
    {
     "name": "stdout",
     "output_type": "stream",
     "text": [
      "Enter radius: 0.5000000001\n"
     ]
    },
    {
     "data": {
      "text/plain": [
       "0.7853981638141593"
      ]
     },
     "execution_count": 5,
     "metadata": {},
     "output_type": "execute_result"
    }
   ],
   "source": [
    "def cal_radius(rad):\n",
    "    return rad*rad * 3.141592654\n",
    "\n",
    "x= float(input(\"Enter radius: \"))\n",
    "\n",
    "cal_radius(x)\n",
    "    "
   ]
  },
  {
   "cell_type": "code",
   "execution_count": 5,
   "metadata": {},
   "outputs": [
    {
     "name": "stdout",
     "output_type": "stream",
     "text": [
      "Enter any number0\n",
      "Zero entered\n"
     ]
    }
   ],
   "source": [
    "x= int(input(\"Enter any number\")) \n",
    "if x < 0:\n",
    "    print(\"Negative number Entered\")\n",
    "elif x > 0:\n",
    "    print(\"Positive number Entered\")\n",
    "elif x == 0:\n",
    "    print(\"Zero entered\")\n",
    "    "
   ]
  },
  {
   "cell_type": "code",
   "execution_count": 6,
   "metadata": {},
   "outputs": [
    {
     "name": "stdout",
     "output_type": "stream",
     "text": [
      "Enter any number1\n",
      "Positive number Entered\n"
     ]
    }
   ],
   "source": [
    "x= int(input(\"Enter any number\")) \n",
    "if x < 0:\n",
    "    print(\"Negative number Entered\")\n",
    "elif x > 0:\n",
    "    print(\"Positive number Entered\")\n",
    "elif x == 0:\n",
    "    print(\"Zero entered\")"
   ]
  },
  {
   "cell_type": "code",
   "execution_count": 7,
   "metadata": {},
   "outputs": [
    {
     "name": "stdout",
     "output_type": "stream",
     "text": [
      "Enter any number-1\n",
      "Negative number Entered\n"
     ]
    }
   ],
   "source": [
    "x= int(input(\"Enter any number\")) \n",
    "if x < 0:\n",
    "    print(\"Negative number Entered\")\n",
    "elif x > 0:\n",
    "    print(\"Positive number Entered\")\n",
    "elif x == 0:\n",
    "    print(\"Zero entered\")\n",
    "    "
   ]
  },
  {
   "cell_type": "code",
   "execution_count": 15,
   "metadata": {},
   "outputs": [
    {
     "name": "stdout",
     "output_type": "stream",
     "text": [
      "Enter numerator: 7\n",
      "Enter denominator: 2\n",
      "7 is not completely divisible by 2\n"
     ]
    }
   ],
   "source": [
    "nume=int(input(\"Enter numerator: \"))\n",
    "\n",
    "den=int(input(\"Enter denominator: \"))\n",
    "\n",
    "if nume%den==0:\n",
    "    print (str(nume) + \" is completely divisible by \" + str(den))\n",
    "else:\n",
    "    print (str(nume) + \" is not completely divisible by \" + str(den))\n",
    "    \n",
    "    "
   ]
  },
  {
   "cell_type": "code",
   "execution_count": 3,
   "metadata": {},
   "outputs": [
    {
     "name": "stdout",
     "output_type": "stream",
     "text": [
      "Enter a year for first date yyyy:2018\n",
      "Enter a month for first date mm:01\n",
      "Enter a day for first date dd:01\n",
      "2018-01-01\n",
      "Enter a year for second date yyyy:2019\n",
      "Enter a month for second date mm:01\n",
      "Enter a day for second date dd:01\n",
      "2019-01-01\n",
      "365 days\n"
     ]
    }
   ],
   "source": [
    "from datetime import date \n",
    "\n",
    "def cal_days(date1, date2): \n",
    "    return (date2-date1).days\n",
    "\n",
    "year = int(input('Enter a year for first date yyyy:'))\n",
    "month = int(input('Enter a month for first date mm:'))\n",
    "day = int(input('Enter a day for first date dd:'))\n",
    "date1 = date(year, month, day)\n",
    "print(date1)\n",
    "\n",
    "year2 = int(input('Enter a year for second date yyyy:'))\n",
    "month2 = int(input('Enter a month for second date mm:'))\n",
    "day2 = int(input('Enter a day for second date dd:'))\n",
    "date2 = date(year2, month2, day2)\n",
    "print(date2)\n",
    "\n",
    "print(cal_days(date1, date2), \"days\") "
   ]
  },
  {
   "cell_type": "code",
   "execution_count": 2,
   "metadata": {},
   "outputs": [
    {
     "name": "stdout",
     "output_type": "stream",
     "text": [
      "Enter radius: 1\n"
     ]
    },
    {
     "data": {
      "text/plain": [
       "4.1887902053333335"
      ]
     },
     "execution_count": 2,
     "metadata": {},
     "output_type": "execute_result"
    }
   ],
   "source": [
    "def cal_vol(rad):\n",
    "    return 4/3*(3.141592654*rad*rad*rad)\n",
    "x= float(input(\"Enter radius: \"))\n",
    "\n",
    "cal_vol(x)"
   ]
  },
  {
   "cell_type": "code",
   "execution_count": 1,
   "metadata": {},
   "outputs": [
    {
     "name": "stdout",
     "output_type": "stream",
     "text": [
      "Enter String you want to get copy of:Hi\n",
      "Enter +ve number to get copies of string:5\n",
      "HiHiHiHiHi"
     ]
    }
   ],
   "source": [
    "y=input(\"Enter String you want to get copy of:\")\n",
    "x=int(input(\"Enter +ve number to get copies of string:\"))\n",
    "z=0\n",
    "while z!=x:\n",
    "  print(y,end='')\n",
    "  z += 1\n",
    "    "
   ]
  },
  {
   "cell_type": "code",
   "execution_count": 8,
   "metadata": {},
   "outputs": [
    {
     "name": "stdout",
     "output_type": "stream",
     "text": [
      "Enter number: 7\n",
      "7 is odd \n"
     ]
    }
   ],
   "source": [
    "num=int(input(\"Enter number: \"))\n",
    "\n",
    "if num%2==0:\n",
    "    print (str(num) + \" is even \" )\n",
    "else:\n",
    "    print (str(num) + \" is odd \")\n",
    "    "
   ]
  },
  {
   "cell_type": "code",
   "execution_count": 9,
   "metadata": {},
   "outputs": [
    {
     "name": "stdout",
     "output_type": "stream",
     "text": [
      "Enter number: 4\n",
      "4 is even \n"
     ]
    }
   ],
   "source": [
    "num=int(input(\"Enter number: \"))\n",
    "\n",
    "if num%2==0:\n",
    "    print (str(num) + \" is even \" )\n",
    "else:\n",
    "    print (str(num) + \" is odd \")"
   ]
  },
  {
   "cell_type": "code",
   "execution_count": 19,
   "metadata": {},
   "outputs": [
    {
     "name": "stdout",
     "output_type": "stream",
     "text": [
      "Enter letter to check vowel:A\n",
      "A is vowel\n"
     ]
    }
   ],
   "source": [
    "vowels=[\"a\",\"e\",\"i\",\"o\",\"u\"]\n",
    "\n",
    "x=input(\"Enter letter to check vowel:\")\n",
    "y=x.lower()\n",
    "if y in vowels:\n",
    "    print(x + \" is vowel\")\n",
    "else:\n",
    "    print(x + \" is not a vowel\")"
   ]
  },
  {
   "cell_type": "code",
   "execution_count": 20,
   "metadata": {},
   "outputs": [
    {
     "name": "stdout",
     "output_type": "stream",
     "text": [
      "Enter letter to check vowel:e\n",
      "e is vowel\n"
     ]
    }
   ],
   "source": [
    "vowels=[\"a\",\"e\",\"i\",\"o\",\"u\"]\n",
    "\n",
    "x=input(\"Enter letter to check vowel:\")\n",
    "y=x.lower()\n",
    "if y in vowels:\n",
    "    print(x + \" is vowel\")\n",
    "else:\n",
    "    print(x + \" is not a vowel\")"
   ]
  },
  {
   "cell_type": "code",
   "execution_count": 21,
   "metadata": {},
   "outputs": [
    {
     "name": "stdout",
     "output_type": "stream",
     "text": [
      "Enter letter to check vowel:N\n",
      "N is not a vowel\n"
     ]
    }
   ],
   "source": [
    "vowels=[\"a\",\"e\",\"i\",\"o\",\"u\"]\n",
    "\n",
    "x=input(\"Enter letter to check vowel:\")\n",
    "y=x.lower()\n",
    "if y in vowels:\n",
    "    print(x + \" is vowel\")\n",
    "else:\n",
    "    print(x + \" is not a vowel\")"
   ]
  },
  {
   "cell_type": "code",
   "execution_count": 22,
   "metadata": {},
   "outputs": [
    {
     "name": "stdout",
     "output_type": "stream",
     "text": [
      "Enter base: 4\n",
      "Enter height: 4\n"
     ]
    },
    {
     "data": {
      "text/plain": [
       "8.0"
      ]
     },
     "execution_count": 22,
     "metadata": {},
     "output_type": "execute_result"
    }
   ],
   "source": [
    "base=int(input(\"Enter base: \"))\n",
    "\n",
    "height=int(input(\"Enter height: \"))\n",
    "\n",
    "def cal_tri_area(base,height):\n",
    "    return (base*height)/2\n",
    "\n",
    "cal_tri_area(base,height)\n",
    "    "
   ]
  },
  {
   "cell_type": "code",
   "execution_count": 10,
   "metadata": {},
   "outputs": [
    {
     "name": "stdout",
     "output_type": "stream",
     "text": [
      "Enter principal amount: 10000\n",
      "Enter rate: 0.1\n",
      "Enter time (year): 5\n"
     ]
    },
    {
     "data": {
      "text/plain": [
       "15000.0"
      ]
     },
     "execution_count": 10,
     "metadata": {},
     "output_type": "execute_result"
    }
   ],
   "source": [
    "p = float(input(\"Enter principal amount: \"))\n",
    "r = float(input(\"Enter rate: \")) *100\n",
    "t = float(input(\"Enter time (year): \"))\n",
    "\n",
    "def cal_interest(p,r,t):\n",
    "    r=r/100\n",
    "    return p*(1+(r*t))\n",
    "\n",
    "cal_interest(p,r,t)"
   ]
  },
  {
   "cell_type": "code",
   "execution_count": 13,
   "metadata": {},
   "outputs": [
    {
     "name": "stdout",
     "output_type": "stream",
     "text": [
      "Enter number x1: 2\n",
      "Enter number x2: 4\n",
      "Enter number y1: 4\n",
      "Enter number y2: 4\n",
      "distance between points is: 2.0\n"
     ]
    }
   ],
   "source": [
    "x1=int(input(\"Enter number x1: \"))\n",
    "x2=int(input(\"Enter number x2: \"))\n",
    "y1=int(input(\"Enter number y1: \"))\n",
    "y2=int(input(\"Enter number y2: \"))\n",
    "\n",
    "x = (y1-x1)**2\n",
    "y = (y2-x2)**2\n",
    "\n",
    "cal_eu=(x+y)**.5\n",
    "\n",
    "print(\"distance between points is: \" + str(cal_eu))"
   ]
  },
  {
   "cell_type": "code",
   "execution_count": 18,
   "metadata": {},
   "outputs": [
    {
     "name": "stdout",
     "output_type": "stream",
     "text": [
      "Enter ft: 5\n",
      "There are 152.4cm in 5ft\n"
     ]
    }
   ],
   "source": [
    "ft=int(input(\"Enter ft: \"))\n",
    "cm= ft * 30.48\n",
    "\n",
    "print (\"There are \" +str(cm) + \"cm in \" + str(ft) + \"ft\" )"
   ]
  },
  {
   "cell_type": "code",
   "execution_count": 26,
   "metadata": {},
   "outputs": [
    {
     "name": "stdout",
     "output_type": "stream",
     "text": [
      "Enter height in cm: 180\n",
      "Enter Kg: 75\n",
      "bmi is 23.15\n"
     ]
    }
   ],
   "source": [
    "h=int(input(\"Enter height in cm: \"))\n",
    "w=int(input(\"Enter Kg: \"))\n",
    "\n",
    "h= (h/100)**2\n",
    "\n",
    "bmi= w/h\n",
    "\n",
    "print(\"bmi is %0.2f\"%(bmi))"
   ]
  },
  {
   "cell_type": "code",
   "execution_count": 29,
   "metadata": {},
   "outputs": [
    {
     "name": "stdout",
     "output_type": "stream",
     "text": [
      "Input a number: 5\n",
      "Sum of n Positive integers till 5 is 15.0\n"
     ]
    }
   ],
   "source": [
    "num = int(input(\"Input a number: \"))\n",
    "snum = (num * (num + 1)) / 2\n",
    "print(\"Sum of n Positive integers till \"+str(num)+\" is \" + str(snum))"
   ]
  },
  {
   "cell_type": "code",
   "execution_count": 6,
   "metadata": {},
   "outputs": [
    {
     "name": "stdout",
     "output_type": "stream",
     "text": [
      "Enter any decimal number: 5\n",
      "101"
     ]
    }
   ],
   "source": [
    "def decimalToBinary(num):\n",
    " \n",
    "    if num > 1:\n",
    "        decimalToBinary(num // 2)\n",
    "    print(num % 2, end='')\n",
    "\n",
    "num = int(input(\"Enter any decimal number: \"))\n",
    "\n",
    "decimalToBinary(num)"
   ]
  },
  {
   "cell_type": "code",
   "execution_count": 12,
   "metadata": {},
   "outputs": [
    {
     "name": "stdout",
     "output_type": "stream",
     "text": [
      "Enter String: QuickBrownFoxJumpsovertheDog\n",
      "Vowels =  9\n",
      "Consonants =  19\n"
     ]
    }
   ],
   "source": [
    "\n",
    "sent= input(\"Enter String: \")\n",
    "vowels = 0\n",
    "consonants = 0\n",
    "\n",
    "for x in sent:\n",
    "    if(x == 'a' or x == 'e' or x == 'i' or x == 'o' or x == 'u'\n",
    "       or x == 'A' or x == 'E' or x == 'I' or x == 'O' or x == 'U'):\n",
    "        vowels = vowels + 1\n",
    "    else:\n",
    "        consonants = consonants + 1\n",
    " \n",
    "print(\"Vowels = \", vowels)\n",
    "print(\"Consonants = \", consonants)"
   ]
  },
  {
   "cell_type": "code",
   "execution_count": 7,
   "metadata": {},
   "outputs": [
    {
     "name": "stdout",
     "output_type": "stream",
     "text": [
      "Enter String to check palindrome: AHA\n",
      "its a palindrome\n"
     ]
    }
   ],
   "source": [
    "x = input(\"Enter String to check palindrome: \")\n",
    "z = \"\" \n",
    "for i in x: \n",
    "    z = i + z \n",
    "    if (x==z): \n",
    "        print(\"its a palindrome\")   \n",
    "if(x!=z):\n",
    "    print(\"not a palindrome\")"
   ]
  },
  {
   "cell_type": "code",
   "execution_count": 8,
   "metadata": {},
   "outputs": [
    {
     "name": "stdout",
     "output_type": "stream",
     "text": [
      "Enter String to check palindrome: Hello\n",
      "not a palindrome\n"
     ]
    }
   ],
   "source": [
    "x = input(\"Enter String to check palindrome: \")\n",
    "z = \"\" \n",
    "for i in x: \n",
    "    z = i + z \n",
    "    if (x==z): \n",
    "        print(\"its a palindrome\")   \n",
    "if(x!=z):\n",
    "    print(\"not a palindrome\")"
   ]
  },
  {
   "cell_type": "code",
   "execution_count": 10,
   "metadata": {},
   "outputs": [
    {
     "name": "stdout",
     "output_type": "stream",
     "text": [
      "Input a stringPython 3.2\n",
      "Alphabets 6\n",
      "Digits 2\n",
      "spaces 1\n",
      "special char 1\n"
     ]
    }
   ],
   "source": [
    "string = input(\"Input a string\")\n",
    "dig=let=spa=spe=0\n",
    "for c in string:\n",
    "    if c.isdigit():\n",
    "        dig=dig+1\n",
    "    elif c.isalpha():\n",
    "        let=let+1\n",
    "    elif c.isspace():\n",
    "        spa=spa+1\n",
    "    else:\n",
    "        spe=spe+1\n",
    "        \n",
    "print(\"Alphabets\", let)\n",
    "print(\"Digits\", dig)\n",
    "print(\"spaces\", spa)\n",
    "print(\"special char\", spe)"
   ]
  },
  {
   "cell_type": "code",
   "execution_count": 18,
   "metadata": {},
   "outputs": [
    {
     "name": "stdout",
     "output_type": "stream",
     "text": [
      "Enter number of rows: 5\n",
      "\n",
      "* \n",
      "* * \n",
      "* * * \n",
      "* * * * \n",
      "* * * * * \n",
      "* * * * \n",
      "* * * \n",
      "* * \n",
      "* \n"
     ]
    }
   ],
   "source": [
    "x=int(input(\"Enter number of rows: \"));\n",
    "for i in range(x):\n",
    "    for j in range(i):\n",
    "        print ('* ', end=\"\")\n",
    "    print('')\n",
    "\n",
    "for i in range(x,0,-1):\n",
    "    for j in range(i):\n",
    "        print('* ', end=\"\")\n",
    "    print('')"
   ]
  },
  {
   "cell_type": "code",
   "execution_count": 16,
   "metadata": {},
   "outputs": [
    {
     "name": "stdout",
     "output_type": "stream",
     "text": [
      "\n",
      "1\n",
      "22\n",
      "333\n",
      "4444\n",
      "55555\n",
      "666666\n",
      "7777777\n",
      "88888888\n",
      "999999999\n"
     ]
    }
   ],
   "source": [
    "for i in range(10):\n",
    "    print(str(i) * i )"
   ]
  },
  {
   "cell_type": "code",
   "execution_count": 30,
   "metadata": {},
   "outputs": [
    {
     "name": "stdout",
     "output_type": "stream",
     "text": [
      "Enter number of rows: 5\n",
      "\n",
      "1\n",
      "12\n",
      "123\n",
      "1234\n",
      "12345\n",
      "1234\n",
      "123\n",
      "12\n",
      "1\n"
     ]
    }
   ],
   "source": [
    "x=int(input(\"Enter number of rows: \"));\n",
    "for i in range(x):\n",
    "    for j in range(1,i+1):\n",
    "        print (j, end=\"\")\n",
    "    print('')\n",
    "\n",
    "for i in range(x,0,-1):\n",
    "    for j in range(1,i+1):\n",
    "        print(j, end=\"\")\n",
    "    print('')"
   ]
  },
  {
   "cell_type": "code",
   "execution_count": null,
   "metadata": {},
   "outputs": [],
   "source": []
  }
 ],
 "metadata": {
  "kernelspec": {
   "display_name": "Python 3",
   "language": "python",
   "name": "python3"
  },
  "language_info": {
   "codemirror_mode": {
    "name": "ipython",
    "version": 3
   },
   "file_extension": ".py",
   "mimetype": "text/x-python",
   "name": "python",
   "nbconvert_exporter": "python",
   "pygments_lexer": "ipython3",
   "version": "3.7.3"
  }
 },
 "nbformat": 4,
 "nbformat_minor": 2
}
